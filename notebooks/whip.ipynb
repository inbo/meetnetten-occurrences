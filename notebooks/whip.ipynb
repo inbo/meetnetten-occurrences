{
 "cells": [
  {
   "cell_type": "markdown",
   "metadata": {},
   "source": [
    "# Whip a Darwin Core Archive"
   ]
  },
  {
   "cell_type": "markdown",
   "metadata": {},
   "source": [
    "This script tests if a Darwin Core Archive confirms to defined [whip specifications](https://github.com/inbo/whip).\n",
    "\n",
    "1. Define whip specs at `datasets/<dataset_dir>/specification/` (copy/paste and adapt from other datasets)\n",
    "2. Place an unzipped Darwin Core Archive in the `data` directory\n",
    "3. Indicate the directory name `dataset_dir` to pull specs\n",
    "4. Indicate what core and extension files are part of the archive"
   ]
  },
  {
   "cell_type": "code",
   "execution_count": null,
   "metadata": {},
   "outputs": [],
   "source": [
    "dataset_dir = \"34 meetnetten-rugstreeppad-zichtwaarneming-occurrences\"\n",
    "event_core = True\n",
    "occ_core = False\n",
    "occ_ext = True\n",
    "mof_ext = False"
   ]
  },
  {
   "cell_type": "code",
   "execution_count": null,
   "metadata": {},
   "outputs": [],
   "source": [
    "import pandas as pd\n",
    "import numpy as np\n",
    "import yaml\n",
    "from pywhip import whip_csv\n",
    "from IPython.display import HTML, display_html"
   ]
  },
  {
   "cell_type": "code",
   "execution_count": null,
   "metadata": {},
   "outputs": [],
   "source": [
    "occ_core_ext = True if occ_core or occ_ext else False"
   ]
  },
  {
   "cell_type": "markdown",
   "metadata": {},
   "source": [
    "## Read data"
   ]
  },
  {
   "cell_type": "code",
   "execution_count": null,
   "metadata": {},
   "outputs": [],
   "source": [
    "dataset_dir = \"34 meetnetten-rugstreeppad-zichtwaarneming-occurrences\""
   ]
  },
  {
   "cell_type": "code",
   "execution_count": null,
   "metadata": {},
   "outputs": [],
   "source": [
    "event = pd.read_csv(\"../data/event.txt\", delimiter=\"\\t\", dtype=object) if event_core else False"
   ]
  },
  {
   "cell_type": "code",
   "execution_count": null,
   "metadata": {},
   "outputs": [],
   "source": [
    "occ = pd.read_csv(\"../data/occurrence.txt\", delimiter=\"\\t\", dtype=object) if occ_core_ext else False"
   ]
  },
  {
   "cell_type": "code",
   "execution_count": null,
   "metadata": {},
   "outputs": [],
   "source": [
    "mof = pd.read_csv(\"../data/measurementorfact.txt\", delimiter=\"\\t\", dtype=object) if mof_ext else False"
   ]
  },
  {
   "cell_type": "markdown",
   "metadata": {},
   "source": [
    "## Some stats"
   ]
  },
  {
   "cell_type": "markdown",
   "metadata": {},
   "source": [
    "Number of records:"
   ]
  },
  {
   "cell_type": "code",
   "execution_count": null,
   "metadata": {},
   "outputs": [],
   "source": [
    "len(event) if event_core else False"
   ]
  },
  {
   "cell_type": "code",
   "execution_count": null,
   "metadata": {},
   "outputs": [],
   "source": [
    "len(occ) if occ_core_ext else False"
   ]
  },
  {
   "cell_type": "code",
   "execution_count": null,
   "metadata": {},
   "outputs": [],
   "source": [
    "len(mof) if mof_ext else False"
   ]
  },
  {
   "cell_type": "code",
   "execution_count": null,
   "metadata": {},
   "outputs": [],
   "source": [
    "event[\"eventDate\"].min() if event_core else occ[\"eventDate\"]"
   ]
  },
  {
   "cell_type": "code",
   "execution_count": null,
   "metadata": {},
   "outputs": [],
   "source": [
    "event[\"eventDate\"].max() if event_core else occ[\"eventDate\"]"
   ]
  },
  {
   "cell_type": "code",
   "execution_count": null,
   "metadata": {},
   "outputs": [],
   "source": [
    "occ[\"scientificName\"].unique()"
   ]
  },
  {
   "cell_type": "code",
   "execution_count": null,
   "metadata": {},
   "outputs": [],
   "source": [
    "occ.groupby([\"scientificName\",\"taxonRank\",\"vernacularName\"])[\"occurrenceID\"].count().reset_index()"
   ]
  },
  {
   "cell_type": "markdown",
   "metadata": {},
   "source": [
    "## Verify data"
   ]
  },
  {
   "cell_type": "markdown",
   "metadata": {},
   "source": [
    "### Relationships between files"
   ]
  },
  {
   "cell_type": "code",
   "execution_count": null,
   "metadata": {},
   "outputs": [],
   "source": [
    "occ_event = pd.merge(occ, event, how = \"left\") if occ_ext else False\n",
    "mof_event = pd.merge(mof, event, how = \"left\") if mof_ext else False"
   ]
  },
  {
   "cell_type": "markdown",
   "metadata": {},
   "source": [
    "Number of records with that have empty values when merging with event. Should be 0 for all."
   ]
  },
  {
   "cell_type": "code",
   "execution_count": null,
   "metadata": {
    "scrolled": true
   },
   "outputs": [],
   "source": [
    "occ_event[occ_event[\"type\"].isnull()][\"id\"].unique() if occ_ext else False"
   ]
  },
  {
   "cell_type": "code",
   "execution_count": null,
   "metadata": {},
   "outputs": [],
   "source": [
    "mof_event[mof_event[\"type\"].isnull()][\"id\"].unique() if mof_ext else False"
   ]
  },
  {
   "cell_type": "markdown",
   "metadata": {},
   "source": [
    "### Unique IDs"
   ]
  },
  {
   "cell_type": "markdown",
   "metadata": {},
   "source": [
    "Number of records with a duplicate ids. Should be 0 for all."
   ]
  },
  {
   "cell_type": "code",
   "execution_count": null,
   "metadata": {},
   "outputs": [],
   "source": [
    "event[event[\"eventID\"].duplicated(keep=False)][\"eventID\"].sort_values().count() if event_core else False"
   ]
  },
  {
   "cell_type": "code",
   "execution_count": null,
   "metadata": {},
   "outputs": [],
   "source": [
    "occ[occ[\"occurrenceID\"].duplicated(keep=False)][\"occurrenceID\"].sort_values().count() if occ_core_ext else False"
   ]
  },
  {
   "cell_type": "markdown",
   "metadata": {},
   "source": [
    "## Whip data"
   ]
  },
  {
   "cell_type": "markdown",
   "metadata": {},
   "source": [
    "### Event"
   ]
  },
  {
   "cell_type": "code",
   "execution_count": null,
   "metadata": {},
   "outputs": [],
   "source": [
    "event_spec = yaml.load(open(\"../datasets/\" + dataset_dir + \"/specification/dwc-event.yaml\").read()) if event_core else False"
   ]
  },
  {
   "cell_type": "code",
   "execution_count": null,
   "metadata": {},
   "outputs": [],
   "source": [
    "event_whipped = whip_csv(\"../data/event.txt\", event_spec, delimiter=\"\\t\") if event_core else False"
   ]
  },
  {
   "cell_type": "code",
   "execution_count": null,
   "metadata": {},
   "outputs": [],
   "source": [
    "display_html(HTML(event_whipped.get_report(\"html\")), metadata=dict(isolated=True)) if event_core else False"
   ]
  },
  {
   "cell_type": "markdown",
   "metadata": {},
   "source": [
    "### Occurrence"
   ]
  },
  {
   "cell_type": "code",
   "execution_count": null,
   "metadata": {
    "scrolled": true
   },
   "outputs": [],
   "source": [
    "occ_spec = yaml.load(open(\"../datasets/\" + dataset_dir + \"/specification/dwc-occurrence.yaml\").read()) if occ_core_ext else False"
   ]
  },
  {
   "cell_type": "code",
   "execution_count": null,
   "metadata": {},
   "outputs": [],
   "source": [
    "occ_whipped = whip_csv(\"../data/occurrence.txt\", occ_spec, delimiter=\"\\t\") if occ_core_ext else False"
   ]
  },
  {
   "cell_type": "code",
   "execution_count": null,
   "metadata": {},
   "outputs": [],
   "source": [
    "display_html(HTML(occ_whipped.get_report(\"html\")), metadata=dict(isolated=True)) if occ_core_ext else False"
   ]
  },
  {
   "cell_type": "markdown",
   "metadata": {},
   "source": [
    "### Measurement or fact"
   ]
  },
  {
   "cell_type": "code",
   "execution_count": null,
   "metadata": {
    "scrolled": true
   },
   "outputs": [],
   "source": [
    "mof_spec = yaml.load(open(\"../datasets/\" + dataset_dir + \"/specification/dwc-mof.yaml\").read()) if mof_ext else False"
   ]
  },
  {
   "cell_type": "code",
   "execution_count": null,
   "metadata": {},
   "outputs": [],
   "source": [
    "mof_whipped = whip_csv(\"../data/measurementorfact.txt\", mof_spec, delimiter=\"\\t\") if mof_ext else False"
   ]
  },
  {
   "cell_type": "code",
   "execution_count": null,
   "metadata": {},
   "outputs": [],
   "source": [
    "display_html(HTML(mof_whipped.get_report(\"html\")), metadata=dict(isolated=True)) if mof_ext else False"
   ]
  }
 ],
 "metadata": {
  "kernelspec": {
   "display_name": "Python 3",
   "language": "python",
   "name": "python3"
  },
  "language_info": {
   "codemirror_mode": {
    "name": "ipython",
    "version": 3
   },
   "file_extension": ".py",
   "mimetype": "text/x-python",
   "name": "python",
   "nbconvert_exporter": "python",
   "pygments_lexer": "ipython3",
   "version": "3.7.3"
  }
 },
 "nbformat": 4,
 "nbformat_minor": 1
}
