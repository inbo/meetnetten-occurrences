{
 "cells": [
  {
   "cell_type": "markdown",
   "metadata": {},
   "source": [
    "# Verify mapping"
   ]
  },
  {
   "cell_type": "code",
   "execution_count": 1,
   "metadata": {},
   "outputs": [],
   "source": [
    "import pandas as pd\n",
    "import numpy as np\n",
    "import yaml\n",
    "from pywhip import whip_csv\n",
    "from IPython.display import HTML, display_html"
   ]
  },
  {
   "cell_type": "markdown",
   "metadata": {},
   "source": [
    "## Read data"
   ]
  },
  {
   "cell_type": "code",
   "execution_count": 2,
   "metadata": {},
   "outputs": [],
   "source": [
    "event = pd.read_csv(\"../data/event.txt\", delimiter=\"\\t\", dtype=object)"
   ]
  },
  {
   "cell_type": "code",
   "execution_count": 3,
   "metadata": {},
   "outputs": [],
   "source": [
    "occ = pd.read_csv(\"../data/occurrence.txt\", delimiter=\"\\t\", dtype=object)"
   ]
  },
  {
   "cell_type": "code",
   "execution_count": 4,
   "metadata": {},
   "outputs": [],
   "source": [
    "mof = pd.read_csv(\"../data/measurementorfact.txt\", delimiter=\"\\t\", dtype=object)"
   ]
  },
  {
   "cell_type": "markdown",
   "metadata": {},
   "source": [
    "## Some stats"
   ]
  },
  {
   "cell_type": "markdown",
   "metadata": {},
   "source": [
    "Number of records:"
   ]
  },
  {
   "cell_type": "code",
   "execution_count": 5,
   "metadata": {},
   "outputs": [
    {
     "data": {
      "text/plain": [
       "55"
      ]
     },
     "execution_count": 5,
     "metadata": {},
     "output_type": "execute_result"
    }
   ],
   "source": [
    "len(event)"
   ]
  },
  {
   "cell_type": "code",
   "execution_count": 6,
   "metadata": {},
   "outputs": [
    {
     "data": {
      "text/plain": [
       "466"
      ]
     },
     "execution_count": 6,
     "metadata": {},
     "output_type": "execute_result"
    }
   ],
   "source": [
    "len(occ)"
   ]
  },
  {
   "cell_type": "code",
   "execution_count": 7,
   "metadata": {},
   "outputs": [
    {
     "data": {
      "text/plain": [
       "1398"
      ]
     },
     "execution_count": 7,
     "metadata": {},
     "output_type": "execute_result"
    }
   ],
   "source": [
    "len(mof)"
   ]
  },
  {
   "cell_type": "code",
   "execution_count": 8,
   "metadata": {},
   "outputs": [
    {
     "data": {
      "text/plain": [
       "'2018-06-09'"
      ]
     },
     "execution_count": 8,
     "metadata": {},
     "output_type": "execute_result"
    }
   ],
   "source": [
    "event[\"eventDate\"].min()"
   ]
  },
  {
   "cell_type": "code",
   "execution_count": 9,
   "metadata": {},
   "outputs": [
    {
     "data": {
      "text/plain": [
       "'2018-07-17'"
      ]
     },
     "execution_count": 9,
     "metadata": {},
     "output_type": "execute_result"
    }
   ],
   "source": [
    "event[\"eventDate\"].max()"
   ]
  },
  {
   "cell_type": "code",
   "execution_count": 10,
   "metadata": {},
   "outputs": [
    {
     "data": {
      "text/plain": [
       "array(['Apatura iris', 'Vanessa atalanta', 'Gonepteryx rhamni',\n",
       "       'Polygonia c-album', 'Satyrium ilicis', 'Maniola jurtina',\n",
       "       'Celastrina argiolus', 'Limenitis camilla',\n",
       "       'Coenonympha pamphilus', 'Issoria lathonia', 'Pieris brassicae',\n",
       "       'Ochlodes sylvanus', 'Aglais io', 'Papilio machaon',\n",
       "       'Pararge aegeria', 'Argynnis paphia', 'Pieris rapae',\n",
       "       'Pieris napi', 'Favonius quercus', 'Vanessa cardui',\n",
       "       'Lycaena phlaeas', 'Polyommatus icarus', 'Plebejus argus',\n",
       "       'Araschnia levana', 'Aphantopus hyperantus', 'Pyronia tithonus',\n",
       "       'Aricia agestis', 'Satyrium w-album'], dtype=object)"
      ]
     },
     "execution_count": 10,
     "metadata": {},
     "output_type": "execute_result"
    }
   ],
   "source": [
    "occ[\"scientificName\"].unique()"
   ]
  },
  {
   "cell_type": "code",
   "execution_count": 11,
   "metadata": {},
   "outputs": [
    {
     "data": {
      "text/html": [
       "<div>\n",
       "<style scoped>\n",
       "    .dataframe tbody tr th:only-of-type {\n",
       "        vertical-align: middle;\n",
       "    }\n",
       "\n",
       "    .dataframe tbody tr th {\n",
       "        vertical-align: top;\n",
       "    }\n",
       "\n",
       "    .dataframe thead th {\n",
       "        text-align: right;\n",
       "    }\n",
       "</style>\n",
       "<table border=\"1\" class=\"dataframe\">\n",
       "  <thead>\n",
       "    <tr style=\"text-align: right;\">\n",
       "      <th></th>\n",
       "      <th>scientificName</th>\n",
       "      <th>taxonRank</th>\n",
       "      <th>vernacularName</th>\n",
       "      <th>occurrenceID</th>\n",
       "    </tr>\n",
       "  </thead>\n",
       "  <tbody>\n",
       "    <tr>\n",
       "      <th>0</th>\n",
       "      <td>Aglais io</td>\n",
       "      <td>species</td>\n",
       "      <td>Dagpauwoog</td>\n",
       "      <td>14</td>\n",
       "    </tr>\n",
       "    <tr>\n",
       "      <th>1</th>\n",
       "      <td>Apatura iris</td>\n",
       "      <td>species</td>\n",
       "      <td>Grote weerschijnvlinder</td>\n",
       "      <td>43</td>\n",
       "    </tr>\n",
       "    <tr>\n",
       "      <th>2</th>\n",
       "      <td>Aphantopus hyperantus</td>\n",
       "      <td>species</td>\n",
       "      <td>Koevinkje</td>\n",
       "      <td>6</td>\n",
       "    </tr>\n",
       "    <tr>\n",
       "      <th>3</th>\n",
       "      <td>Araschnia levana</td>\n",
       "      <td>species</td>\n",
       "      <td>Landkaartje</td>\n",
       "      <td>9</td>\n",
       "    </tr>\n",
       "    <tr>\n",
       "      <th>4</th>\n",
       "      <td>Argynnis paphia</td>\n",
       "      <td>species</td>\n",
       "      <td>Keizersmantel</td>\n",
       "      <td>12</td>\n",
       "    </tr>\n",
       "    <tr>\n",
       "      <th>5</th>\n",
       "      <td>Aricia agestis</td>\n",
       "      <td>species</td>\n",
       "      <td>Bruin blauwtje</td>\n",
       "      <td>2</td>\n",
       "    </tr>\n",
       "    <tr>\n",
       "      <th>6</th>\n",
       "      <td>Celastrina argiolus</td>\n",
       "      <td>species</td>\n",
       "      <td>Boomblauwtje</td>\n",
       "      <td>29</td>\n",
       "    </tr>\n",
       "    <tr>\n",
       "      <th>7</th>\n",
       "      <td>Coenonympha pamphilus</td>\n",
       "      <td>species</td>\n",
       "      <td>Hooibeestje</td>\n",
       "      <td>11</td>\n",
       "    </tr>\n",
       "    <tr>\n",
       "      <th>8</th>\n",
       "      <td>Favonius quercus</td>\n",
       "      <td>species</td>\n",
       "      <td>Eikenpage</td>\n",
       "      <td>19</td>\n",
       "    </tr>\n",
       "    <tr>\n",
       "      <th>9</th>\n",
       "      <td>Gonepteryx rhamni</td>\n",
       "      <td>species</td>\n",
       "      <td>Citroenvlinder</td>\n",
       "      <td>29</td>\n",
       "    </tr>\n",
       "    <tr>\n",
       "      <th>10</th>\n",
       "      <td>Issoria lathonia</td>\n",
       "      <td>species</td>\n",
       "      <td>Kleine parelmoervlinder</td>\n",
       "      <td>6</td>\n",
       "    </tr>\n",
       "    <tr>\n",
       "      <th>11</th>\n",
       "      <td>Limenitis camilla</td>\n",
       "      <td>species</td>\n",
       "      <td>Kleine ijsvogelvlinder</td>\n",
       "      <td>15</td>\n",
       "    </tr>\n",
       "    <tr>\n",
       "      <th>12</th>\n",
       "      <td>Lycaena phlaeas</td>\n",
       "      <td>species</td>\n",
       "      <td>Kleine vuurvlinder</td>\n",
       "      <td>8</td>\n",
       "    </tr>\n",
       "    <tr>\n",
       "      <th>13</th>\n",
       "      <td>Maniola jurtina</td>\n",
       "      <td>species</td>\n",
       "      <td>Bruin zandoogje</td>\n",
       "      <td>23</td>\n",
       "    </tr>\n",
       "    <tr>\n",
       "      <th>14</th>\n",
       "      <td>Ochlodes sylvanus</td>\n",
       "      <td>species</td>\n",
       "      <td>Groot dikkopje</td>\n",
       "      <td>23</td>\n",
       "    </tr>\n",
       "    <tr>\n",
       "      <th>15</th>\n",
       "      <td>Papilio machaon</td>\n",
       "      <td>species</td>\n",
       "      <td>Koninginnenpage</td>\n",
       "      <td>6</td>\n",
       "    </tr>\n",
       "    <tr>\n",
       "      <th>16</th>\n",
       "      <td>Pararge aegeria</td>\n",
       "      <td>species</td>\n",
       "      <td>Bont zandoogje</td>\n",
       "      <td>22</td>\n",
       "    </tr>\n",
       "    <tr>\n",
       "      <th>17</th>\n",
       "      <td>Pieris brassicae</td>\n",
       "      <td>species</td>\n",
       "      <td>Groot koolwitje</td>\n",
       "      <td>19</td>\n",
       "    </tr>\n",
       "    <tr>\n",
       "      <th>18</th>\n",
       "      <td>Pieris napi</td>\n",
       "      <td>species</td>\n",
       "      <td>Klein geaderd witje</td>\n",
       "      <td>15</td>\n",
       "    </tr>\n",
       "    <tr>\n",
       "      <th>19</th>\n",
       "      <td>Pieris rapae</td>\n",
       "      <td>species</td>\n",
       "      <td>Klein koolwitje</td>\n",
       "      <td>17</td>\n",
       "    </tr>\n",
       "    <tr>\n",
       "      <th>20</th>\n",
       "      <td>Plebejus argus</td>\n",
       "      <td>species</td>\n",
       "      <td>Heideblauwtje</td>\n",
       "      <td>4</td>\n",
       "    </tr>\n",
       "    <tr>\n",
       "      <th>21</th>\n",
       "      <td>Polygonia c-album</td>\n",
       "      <td>species</td>\n",
       "      <td>Gehakkelde aurelia</td>\n",
       "      <td>22</td>\n",
       "    </tr>\n",
       "    <tr>\n",
       "      <th>22</th>\n",
       "      <td>Polyommatus icarus</td>\n",
       "      <td>species</td>\n",
       "      <td>Icarusblauwtje</td>\n",
       "      <td>8</td>\n",
       "    </tr>\n",
       "    <tr>\n",
       "      <th>23</th>\n",
       "      <td>Pyronia tithonus</td>\n",
       "      <td>species</td>\n",
       "      <td>Oranje zandoogje</td>\n",
       "      <td>10</td>\n",
       "    </tr>\n",
       "    <tr>\n",
       "      <th>24</th>\n",
       "      <td>Satyrium ilicis</td>\n",
       "      <td>species</td>\n",
       "      <td>Bruine eikenpage</td>\n",
       "      <td>65</td>\n",
       "    </tr>\n",
       "    <tr>\n",
       "      <th>25</th>\n",
       "      <td>Satyrium w-album</td>\n",
       "      <td>species</td>\n",
       "      <td>Iepenpage</td>\n",
       "      <td>2</td>\n",
       "    </tr>\n",
       "    <tr>\n",
       "      <th>26</th>\n",
       "      <td>Vanessa atalanta</td>\n",
       "      <td>species</td>\n",
       "      <td>Atalanta</td>\n",
       "      <td>17</td>\n",
       "    </tr>\n",
       "    <tr>\n",
       "      <th>27</th>\n",
       "      <td>Vanessa cardui</td>\n",
       "      <td>species</td>\n",
       "      <td>Distelvlinder</td>\n",
       "      <td>10</td>\n",
       "    </tr>\n",
       "  </tbody>\n",
       "</table>\n",
       "</div>"
      ],
      "text/plain": [
       "           scientificName taxonRank           vernacularName  occurrenceID\n",
       "0               Aglais io   species               Dagpauwoog            14\n",
       "1            Apatura iris   species  Grote weerschijnvlinder            43\n",
       "2   Aphantopus hyperantus   species                Koevinkje             6\n",
       "3        Araschnia levana   species              Landkaartje             9\n",
       "4         Argynnis paphia   species            Keizersmantel            12\n",
       "5          Aricia agestis   species           Bruin blauwtje             2\n",
       "6     Celastrina argiolus   species             Boomblauwtje            29\n",
       "7   Coenonympha pamphilus   species              Hooibeestje            11\n",
       "8        Favonius quercus   species                Eikenpage            19\n",
       "9       Gonepteryx rhamni   species           Citroenvlinder            29\n",
       "10       Issoria lathonia   species  Kleine parelmoervlinder             6\n",
       "11      Limenitis camilla   species   Kleine ijsvogelvlinder            15\n",
       "12        Lycaena phlaeas   species       Kleine vuurvlinder             8\n",
       "13        Maniola jurtina   species          Bruin zandoogje            23\n",
       "14      Ochlodes sylvanus   species           Groot dikkopje            23\n",
       "15        Papilio machaon   species          Koninginnenpage             6\n",
       "16        Pararge aegeria   species           Bont zandoogje            22\n",
       "17       Pieris brassicae   species          Groot koolwitje            19\n",
       "18            Pieris napi   species      Klein geaderd witje            15\n",
       "19           Pieris rapae   species          Klein koolwitje            17\n",
       "20         Plebejus argus   species            Heideblauwtje             4\n",
       "21      Polygonia c-album   species       Gehakkelde aurelia            22\n",
       "22     Polyommatus icarus   species           Icarusblauwtje             8\n",
       "23       Pyronia tithonus   species         Oranje zandoogje            10\n",
       "24        Satyrium ilicis   species         Bruine eikenpage            65\n",
       "25       Satyrium w-album   species                Iepenpage             2\n",
       "26       Vanessa atalanta   species                 Atalanta            17\n",
       "27         Vanessa cardui   species            Distelvlinder            10"
      ]
     },
     "execution_count": 11,
     "metadata": {},
     "output_type": "execute_result"
    }
   ],
   "source": [
    "occ.groupby([\"scientificName\",\"taxonRank\",\"vernacularName\"])[\"occurrenceID\"].count().reset_index()"
   ]
  },
  {
   "cell_type": "markdown",
   "metadata": {},
   "source": [
    "## Verify data"
   ]
  },
  {
   "cell_type": "markdown",
   "metadata": {},
   "source": [
    "### Relationships between files"
   ]
  },
  {
   "cell_type": "code",
   "execution_count": 12,
   "metadata": {},
   "outputs": [],
   "source": [
    "occ_event = pd.merge(occ, event, how = \"left\")\n",
    "mof_event = pd.merge(mof, event, how = \"left\")"
   ]
  },
  {
   "cell_type": "markdown",
   "metadata": {},
   "source": [
    "Number of records with that have empty values when merging with event. Should be 0 for all."
   ]
  },
  {
   "cell_type": "code",
   "execution_count": 13,
   "metadata": {
    "scrolled": true
   },
   "outputs": [
    {
     "data": {
      "text/plain": [
       "array([], dtype=object)"
      ]
     },
     "execution_count": 13,
     "metadata": {},
     "output_type": "execute_result"
    }
   ],
   "source": [
    "occ_event[occ_event[\"type\"].isnull()][\"id\"].unique()"
   ]
  },
  {
   "cell_type": "code",
   "execution_count": 14,
   "metadata": {},
   "outputs": [
    {
     "data": {
      "text/plain": [
       "array([], dtype=object)"
      ]
     },
     "execution_count": 14,
     "metadata": {},
     "output_type": "execute_result"
    }
   ],
   "source": [
    "mof_event[mof_event[\"type\"].isnull()][\"id\"].unique()"
   ]
  },
  {
   "cell_type": "markdown",
   "metadata": {},
   "source": [
    "### Unique IDs"
   ]
  },
  {
   "cell_type": "markdown",
   "metadata": {},
   "source": [
    "Number of records with a duplicate ids. Should be 0 for all."
   ]
  },
  {
   "cell_type": "code",
   "execution_count": 15,
   "metadata": {},
   "outputs": [
    {
     "data": {
      "text/plain": [
       "0"
      ]
     },
     "execution_count": 15,
     "metadata": {},
     "output_type": "execute_result"
    }
   ],
   "source": [
    "event[event[\"eventID\"].duplicated(keep=False)][\"eventID\"].sort_values().count()"
   ]
  },
  {
   "cell_type": "code",
   "execution_count": 16,
   "metadata": {},
   "outputs": [
    {
     "data": {
      "text/plain": [
       "0"
      ]
     },
     "execution_count": 16,
     "metadata": {},
     "output_type": "execute_result"
    }
   ],
   "source": [
    "occ[occ[\"occurrenceID\"].duplicated(keep=False)][\"occurrenceID\"].sort_values().count()"
   ]
  },
  {
   "cell_type": "markdown",
   "metadata": {},
   "source": [
    "## Whip data"
   ]
  },
  {
   "cell_type": "markdown",
   "metadata": {},
   "source": [
    "### Event"
   ]
  },
  {
   "cell_type": "code",
   "execution_count": 17,
   "metadata": {},
   "outputs": [
    {
     "name": "stderr",
     "output_type": "stream",
     "text": [
      "/Users/peter_desmet/anaconda3/envs/inbo/lib/python3.7/site-packages/ipykernel_launcher.py:2: YAMLLoadWarning: calling yaml.load() without Loader=... is deprecated, as the default Loader is unsafe. Please read https://msg.pyyaml.org/load for full details.\n",
      "  \n"
     ]
    }
   ],
   "source": [
    "event_spec_file = open(\"../datasets/meetnetten-butterflies-occurrences/specification/dwc-event.yaml\").read()\n",
    "event_spec = yaml.load(event_spec_file)"
   ]
  },
  {
   "cell_type": "code",
   "execution_count": 18,
   "metadata": {},
   "outputs": [
    {
     "name": "stdout",
     "output_type": "stream",
     "text": [
      "Dataset does not comply the specifications, check reportsfor a more detailed information.\n"
     ]
    }
   ],
   "source": [
    "event_whipped = whip_csv(\"../data/event.txt\", event_spec, delimiter=\"\\t\")"
   ]
  },
  {
   "cell_type": "code",
   "execution_count": 19,
   "metadata": {},
   "outputs": [
    {
     "data": {
      "text/plain": [
       "69663"
      ]
     },
     "execution_count": 19,
     "metadata": {},
     "output_type": "execute_result"
    }
   ],
   "source": [
    "# display(HTML(event_whipped.get_report(\"html\")))\n",
    "f = open(\"../reports/event.html\", \"w\")\n",
    "f.write(event_whipped.get_report(\"html\"))"
   ]
  },
  {
   "cell_type": "markdown",
   "metadata": {},
   "source": [
    "### Occurrence"
   ]
  },
  {
   "cell_type": "code",
   "execution_count": 20,
   "metadata": {
    "scrolled": true
   },
   "outputs": [
    {
     "name": "stderr",
     "output_type": "stream",
     "text": [
      "/Users/peter_desmet/anaconda3/envs/inbo/lib/python3.7/site-packages/ipykernel_launcher.py:2: YAMLLoadWarning: calling yaml.load() without Loader=... is deprecated, as the default Loader is unsafe. Please read https://msg.pyyaml.org/load for full details.\n",
      "  \n"
     ]
    }
   ],
   "source": [
    "occ_spec_file = open(\"../datasets/meetnetten-butterflies-occurrences/specification/dwc-occurrence.yaml\").read()\n",
    "occ_spec = yaml.load(occ_spec_file)"
   ]
  },
  {
   "cell_type": "code",
   "execution_count": 21,
   "metadata": {},
   "outputs": [
    {
     "name": "stdout",
     "output_type": "stream",
     "text": [
      "Dataset does not comply the specifications, check reportsfor a more detailed information.\n"
     ]
    }
   ],
   "source": [
    "occ_whipped = whip_csv(\"../data/occurrence.txt\", occ_spec, delimiter=\"\\t\")"
   ]
  },
  {
   "cell_type": "code",
   "execution_count": 22,
   "metadata": {},
   "outputs": [
    {
     "data": {
      "text/plain": [
       "50065"
      ]
     },
     "execution_count": 22,
     "metadata": {},
     "output_type": "execute_result"
    }
   ],
   "source": [
    "# display(HTML(occ_whipped.get_report(\"html\")))\n",
    "f = open(\"../reports/occurrence.html\", \"w\")\n",
    "f.write(occ_whipped.get_report(\"html\"))"
   ]
  },
  {
   "cell_type": "markdown",
   "metadata": {},
   "source": [
    "### Measurement or fact"
   ]
  },
  {
   "cell_type": "code",
   "execution_count": 23,
   "metadata": {
    "scrolled": true
   },
   "outputs": [
    {
     "name": "stderr",
     "output_type": "stream",
     "text": [
      "/Users/peter_desmet/anaconda3/envs/inbo/lib/python3.7/site-packages/ipykernel_launcher.py:2: YAMLLoadWarning: calling yaml.load() without Loader=... is deprecated, as the default Loader is unsafe. Please read https://msg.pyyaml.org/load for full details.\n",
      "  \n"
     ]
    }
   ],
   "source": [
    "mof_spec_file = open(\"../datasets/meetnetten-butterflies-occurrences/specification/dwc-mof.yaml\").read()\n",
    "mof_spec = yaml.load(mof_spec_file)"
   ]
  },
  {
   "cell_type": "code",
   "execution_count": 24,
   "metadata": {},
   "outputs": [
    {
     "name": "stdout",
     "output_type": "stream",
     "text": [
      "Dataset does not comply the specifications, check reportsfor a more detailed information.\n"
     ]
    }
   ],
   "source": [
    "mof_whipped = whip_csv(\"../data/measurementorfact.txt\", mof_spec, delimiter=\"\\t\")"
   ]
  },
  {
   "cell_type": "code",
   "execution_count": 25,
   "metadata": {},
   "outputs": [
    {
     "data": {
      "text/plain": [
       "27591"
      ]
     },
     "execution_count": 25,
     "metadata": {},
     "output_type": "execute_result"
    }
   ],
   "source": [
    "# display(HTML(mof_whipped.get_report(\"html\")))\n",
    "f = open(\"../reports/mof.html\", \"w\")\n",
    "f.write(mof_whipped.get_report(\"html\"))"
   ]
  },
  {
   "cell_type": "code",
   "execution_count": null,
   "metadata": {},
   "outputs": [],
   "source": []
  }
 ],
 "metadata": {
  "kernelspec": {
   "display_name": "Python 3",
   "language": "python",
   "name": "python3"
  },
  "language_info": {
   "codemirror_mode": {
    "name": "ipython",
    "version": 3
   },
   "file_extension": ".py",
   "mimetype": "text/x-python",
   "name": "python",
   "nbconvert_exporter": "python",
   "pygments_lexer": "ipython3",
   "version": "3.7.3"
  }
 },
 "nbformat": 4,
 "nbformat_minor": 1
}
